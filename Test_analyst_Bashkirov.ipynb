{
  "nbformat": 4,
  "nbformat_minor": 0,
  "metadata": {
    "colab": {
      "provenance": []
    },
    "kernelspec": {
      "name": "python3",
      "display_name": "Python 3"
    },
    "language_info": {
      "name": "python"
    }
  },
  "cells": [
    {
      "cell_type": "markdown",
      "source": [
        "# 0. Личные данные"
      ],
      "metadata": {
        "id": "_21encTeTxcX"
      }
    },
    {
      "cell_type": "markdown",
      "source": [
        "**Башкиров Михаил Дмитриевич**\n",
        "\n",
        "Почта: mishka.bashkirka@yandex.ru\n",
        "\n",
        "GitHub: https://github.com/mbashkirka"
      ],
      "metadata": {
        "id": "KVSS6z-0T2sx"
      }
    },
    {
      "cell_type": "markdown",
      "source": [
        "# 1. Вопросы"
      ],
      "metadata": {
        "id": "6lnPdO1ZTAB3"
      }
    },
    {
      "cell_type": "markdown",
      "source": [
        "1. **Как хорошо Вы владеете Python? Оцените свой уровень по шкале от 0 до 10,\n",
        "где 0 - совсем не знаю, 10 - владею в совершенстве.\n",
        "Объясните, почему Вы выбрали такой балл.**\n",
        "\n",
        "  Я оцениваю свой уровень владения Python на 8. Такой балл я выбрал по нескольким важным причинам:\n",
        "\n",
        "  - Я программирую на Python уже более 4.5 лет, это мой основной язык программирования;\n",
        "  - На 1 курсе университета был углубленный курс по Python, на котором я познакомился с такими библиотеками как numpy, pandas, matplotlib, seaborn;\n",
        "  - Проходил стажировку и участвовал в раличных хакатонах, где программировал на Python;\n",
        "  - Почему 8, а не балл выше. Дело в том, что я не полностью еще разобрался в ООП на Python;\n",
        "  "
      ],
      "metadata": {
        "id": "qUHKRcZYTJWS"
      }
    },
    {
      "cell_type": "markdown",
      "source": [
        "2. **Насколько хорошо Вы знакомы с Google Sheets? Оцените свой уровень по\n",
        "шкале от 0 до 10, где 0 - совсем не знаю, 10 - владею в совершенстве.\n",
        "Объясните, почему Вы выбрали такой балл.**\n",
        "\n",
        "  Я оцениваю свой уровень владения Google Sheets на 7. Такой балл я объяснею следующими причинами:\n",
        "  - Большую часть своей жизни работал в Microsoft Excel, только последние 1,5 года пользовался Google Sheets;\n",
        "  - Периодически использую Google Sheets для личных задач;\n",
        "  - Знаю основные формулы и синтаксис;"
      ],
      "metadata": {
        "id": "Dv9RaaIPTrVd"
      }
    },
    {
      "cell_type": "markdown",
      "source": [
        "# 2. Задачи на логику"
      ],
      "metadata": {
        "id": "XFhOF9rH7kDp"
      }
    },
    {
      "cell_type": "markdown",
      "source": [
        "1. **Рекламная кампания стартовала вчера с дневным бюджетом 40 $. Половина\n",
        "бюджета была израсходована к полудню, а 80% оставшегося бюджета было\n",
        "потрачено между полуднем и временем закрытия. Сколько долларов не было\n",
        "потрачено?**\n",
        "\n",
        "  Ответ: 4 доллара не было потрачено."
      ],
      "metadata": {
        "id": "ItFB_pMaP83n"
      }
    },
    {
      "cell_type": "markdown",
      "source": [
        "2. **5 идентичных рекламных кампаний работали 24 дня по 6 часов в день,\n",
        "потрачено было 120 долларов. Сколько дней они работали бы на 216 долларов,\n",
        "если бы 9 одинаковых кампаний работали бы по 8 часов в день?**\n",
        "  \n",
        "  Ответ: 18 дней."
      ],
      "metadata": {
        "id": "W8raigW5QH93"
      }
    },
    {
      "cell_type": "markdown",
      "source": [
        "3. **Дизайнеры создали 200 рекламных баннеров для двух рекламных кампаний. 80\n",
        "из них не использовались ни в кампании №1, ни в кампании №2, 60\n",
        "использовались только в кампании №1. И для каждого рекламного баннера,\n",
        "который использовался в обеих кампаниях, приходится 3 баннера, которые\n",
        "использовались только в кампании №2. Сколько баннеров было использовано в\n",
        "обеих рекламных кампаниях?**\n",
        "\n",
        "  Ответ: 15 баннеров.\n"
      ],
      "metadata": {
        "id": "4QBXKYSuQyyw"
      }
    },
    {
      "cell_type": "markdown",
      "source": [
        "4. **Энн использует Instagram, но не Facebook, а Джон использует Youtube и\n",
        "Facebook. Кейт использует Youtube, но не Instagram, а Том использует Facebook,\n",
        "но не Youtube. Если каждый человек использует две из трех социальных сетей,\n",
        "у кого предпочтения совпадают?**\n",
        "\n",
        "  Ответ: У Джона и Кейта."
      ],
      "metadata": {
        "id": "z_sd1kZuRMKH"
      }
    },
    {
      "cell_type": "markdown",
      "source": [
        "5. **Средний итоговый балл стажера по 4 модулям составляет 78 баллов. Сколько\n",
        "баллов должен получить стажер за 5-й модуль, чтобы средний балл по всему\n",
        "заданию составил 80?**\n",
        "\n",
        "  Ответ: 88 баллов."
      ],
      "metadata": {
        "id": "NQMfrkLbR-hV"
      }
    },
    {
      "cell_type": "markdown",
      "source": [
        "6. **Заказанные в приложении товары доставляются на автомобиле. Автомобиль\n",
        "проезжает 260 км со средней скоростью 80 км / ч. На обратном пути машина\n",
        "движется со средней скоростью 100 км / ч. Насколько быстрее был обратный\n",
        "путь? Ответ указать в минутах.**\n",
        "\n",
        "  Ответ: 39 минут.\n",
        "  "
      ],
      "metadata": {
        "id": "qhX3ZBCCSfs-"
      }
    },
    {
      "cell_type": "markdown",
      "source": [
        "# 3. Техническое задание\n",
        "Файл **data.xlsx** содержит данные о поступлении денежных средств от клиентов компании **N** за покупку её услуг. В файле представлены следующие поля:\n",
        "\n",
        "- **client_id** — ID клиента.\n",
        "- **sum** — сумма денежных средств.\n",
        "- **status** — статус оплаты.\n",
        "- **sale** — менеджер, заключивший сделку.\n",
        "- **new/current** — статус сделки.\n",
        "- **document** — наличие оригинала подписанного договора с клиентом.\n",
        "- **receiving_date** — дата получения оригинала договора."
      ],
      "metadata": {
        "id": "k3ZMlAuH7k8N"
      }
    },
    {
      "cell_type": "code",
      "execution_count": 7,
      "metadata": {
        "id": "16iJESq17h2j"
      },
      "outputs": [],
      "source": [
        "import pandas as pd\n",
        "import matplotlib.pyplot as plt"
      ]
    },
    {
      "cell_type": "code",
      "source": [
        "import warnings\n",
        "warnings.simplefilter(action='ignore', category=FutureWarning)"
      ],
      "metadata": {
        "id": "OBn8UPf0wn3p"
      },
      "execution_count": 8,
      "outputs": []
    },
    {
      "cell_type": "code",
      "source": [
        "data = pd.read_excel(\"data.xlsx\")\n",
        "data.head(10)"
      ],
      "metadata": {
        "colab": {
          "base_uri": "https://localhost:8080/",
          "height": 363
        },
        "id": "QFT858LP8eiB",
        "outputId": "cdad73be-bfac-4210-b23b-bc34cf5f497d"
      },
      "execution_count": 9,
      "outputs": [
        {
          "output_type": "execute_result",
          "data": {
            "text/plain": [
              "   client_id      sum      status       sale new/current  Unnamed: 5  \\\n",
              "0        NaN      NaN    Май 2021        NaN         NaN         NaN   \n",
              "1        6.0  11693.7  ВНУТРЕННИЙ          -           -         NaN   \n",
              "2       14.0   5452.7    ОПЛАЧЕНО    Петрова       новая         NaN   \n",
              "3       15.0  13991.7    ОПЛАЧЕНО     Иванов     текущая         NaN   \n",
              "4       16.0    719.7    ОПЛАЧЕНО     Иванов     текущая         NaN   \n",
              "5       18.0   4253.7    ОПЛАЧЕНО     Иванов     текущая         NaN   \n",
              "6       20.0   5796.7    ОПЛАЧЕНО  Кузнецова     текущая         NaN   \n",
              "7       21.0   3613.7    ОПЛАЧЕНО  Кузнецова     текущая         NaN   \n",
              "8       23.0   8511.7    ОПЛАЧЕНО    Андреев     текущая         NaN   \n",
              "9       24.0  16347.7    ОПЛАЧЕНО    Андреев       новая         NaN   \n",
              "\n",
              "   document       receiving_date  \n",
              "0       NaN                  NaN  \n",
              "1         -                    -  \n",
              "2  оригинал  2021-07-26 00:00:00  \n",
              "3  оригинал  2021-06-08 00:00:00  \n",
              "4  оригинал  2021-06-08 00:00:00  \n",
              "5  оригинал  2021-07-07 00:00:00  \n",
              "6  оригинал  2021-07-15 00:00:00  \n",
              "7  оригинал  2021-10-13 00:00:00  \n",
              "8  оригинал  2021-06-08 00:00:00  \n",
              "9  оригинал  2021-06-23 00:00:00  "
            ],
            "text/html": [
              "\n",
              "  <div id=\"df-8860eff6-faa7-4dbb-a17d-efe29a1b6336\" class=\"colab-df-container\">\n",
              "    <div>\n",
              "<style scoped>\n",
              "    .dataframe tbody tr th:only-of-type {\n",
              "        vertical-align: middle;\n",
              "    }\n",
              "\n",
              "    .dataframe tbody tr th {\n",
              "        vertical-align: top;\n",
              "    }\n",
              "\n",
              "    .dataframe thead th {\n",
              "        text-align: right;\n",
              "    }\n",
              "</style>\n",
              "<table border=\"1\" class=\"dataframe\">\n",
              "  <thead>\n",
              "    <tr style=\"text-align: right;\">\n",
              "      <th></th>\n",
              "      <th>client_id</th>\n",
              "      <th>sum</th>\n",
              "      <th>status</th>\n",
              "      <th>sale</th>\n",
              "      <th>new/current</th>\n",
              "      <th>Unnamed: 5</th>\n",
              "      <th>document</th>\n",
              "      <th>receiving_date</th>\n",
              "    </tr>\n",
              "  </thead>\n",
              "  <tbody>\n",
              "    <tr>\n",
              "      <th>0</th>\n",
              "      <td>NaN</td>\n",
              "      <td>NaN</td>\n",
              "      <td>Май 2021</td>\n",
              "      <td>NaN</td>\n",
              "      <td>NaN</td>\n",
              "      <td>NaN</td>\n",
              "      <td>NaN</td>\n",
              "      <td>NaN</td>\n",
              "    </tr>\n",
              "    <tr>\n",
              "      <th>1</th>\n",
              "      <td>6.0</td>\n",
              "      <td>11693.7</td>\n",
              "      <td>ВНУТРЕННИЙ</td>\n",
              "      <td>-</td>\n",
              "      <td>-</td>\n",
              "      <td>NaN</td>\n",
              "      <td>-</td>\n",
              "      <td>-</td>\n",
              "    </tr>\n",
              "    <tr>\n",
              "      <th>2</th>\n",
              "      <td>14.0</td>\n",
              "      <td>5452.7</td>\n",
              "      <td>ОПЛАЧЕНО</td>\n",
              "      <td>Петрова</td>\n",
              "      <td>новая</td>\n",
              "      <td>NaN</td>\n",
              "      <td>оригинал</td>\n",
              "      <td>2021-07-26 00:00:00</td>\n",
              "    </tr>\n",
              "    <tr>\n",
              "      <th>3</th>\n",
              "      <td>15.0</td>\n",
              "      <td>13991.7</td>\n",
              "      <td>ОПЛАЧЕНО</td>\n",
              "      <td>Иванов</td>\n",
              "      <td>текущая</td>\n",
              "      <td>NaN</td>\n",
              "      <td>оригинал</td>\n",
              "      <td>2021-06-08 00:00:00</td>\n",
              "    </tr>\n",
              "    <tr>\n",
              "      <th>4</th>\n",
              "      <td>16.0</td>\n",
              "      <td>719.7</td>\n",
              "      <td>ОПЛАЧЕНО</td>\n",
              "      <td>Иванов</td>\n",
              "      <td>текущая</td>\n",
              "      <td>NaN</td>\n",
              "      <td>оригинал</td>\n",
              "      <td>2021-06-08 00:00:00</td>\n",
              "    </tr>\n",
              "    <tr>\n",
              "      <th>5</th>\n",
              "      <td>18.0</td>\n",
              "      <td>4253.7</td>\n",
              "      <td>ОПЛАЧЕНО</td>\n",
              "      <td>Иванов</td>\n",
              "      <td>текущая</td>\n",
              "      <td>NaN</td>\n",
              "      <td>оригинал</td>\n",
              "      <td>2021-07-07 00:00:00</td>\n",
              "    </tr>\n",
              "    <tr>\n",
              "      <th>6</th>\n",
              "      <td>20.0</td>\n",
              "      <td>5796.7</td>\n",
              "      <td>ОПЛАЧЕНО</td>\n",
              "      <td>Кузнецова</td>\n",
              "      <td>текущая</td>\n",
              "      <td>NaN</td>\n",
              "      <td>оригинал</td>\n",
              "      <td>2021-07-15 00:00:00</td>\n",
              "    </tr>\n",
              "    <tr>\n",
              "      <th>7</th>\n",
              "      <td>21.0</td>\n",
              "      <td>3613.7</td>\n",
              "      <td>ОПЛАЧЕНО</td>\n",
              "      <td>Кузнецова</td>\n",
              "      <td>текущая</td>\n",
              "      <td>NaN</td>\n",
              "      <td>оригинал</td>\n",
              "      <td>2021-10-13 00:00:00</td>\n",
              "    </tr>\n",
              "    <tr>\n",
              "      <th>8</th>\n",
              "      <td>23.0</td>\n",
              "      <td>8511.7</td>\n",
              "      <td>ОПЛАЧЕНО</td>\n",
              "      <td>Андреев</td>\n",
              "      <td>текущая</td>\n",
              "      <td>NaN</td>\n",
              "      <td>оригинал</td>\n",
              "      <td>2021-06-08 00:00:00</td>\n",
              "    </tr>\n",
              "    <tr>\n",
              "      <th>9</th>\n",
              "      <td>24.0</td>\n",
              "      <td>16347.7</td>\n",
              "      <td>ОПЛАЧЕНО</td>\n",
              "      <td>Андреев</td>\n",
              "      <td>новая</td>\n",
              "      <td>NaN</td>\n",
              "      <td>оригинал</td>\n",
              "      <td>2021-06-23 00:00:00</td>\n",
              "    </tr>\n",
              "  </tbody>\n",
              "</table>\n",
              "</div>\n",
              "    <div class=\"colab-df-buttons\">\n",
              "\n",
              "  <div class=\"colab-df-container\">\n",
              "    <button class=\"colab-df-convert\" onclick=\"convertToInteractive('df-8860eff6-faa7-4dbb-a17d-efe29a1b6336')\"\n",
              "            title=\"Convert this dataframe to an interactive table.\"\n",
              "            style=\"display:none;\">\n",
              "\n",
              "  <svg xmlns=\"http://www.w3.org/2000/svg\" height=\"24px\" viewBox=\"0 -960 960 960\">\n",
              "    <path d=\"M120-120v-720h720v720H120Zm60-500h600v-160H180v160Zm220 220h160v-160H400v160Zm0 220h160v-160H400v160ZM180-400h160v-160H180v160Zm440 0h160v-160H620v160ZM180-180h160v-160H180v160Zm440 0h160v-160H620v160Z\"/>\n",
              "  </svg>\n",
              "    </button>\n",
              "\n",
              "  <style>\n",
              "    .colab-df-container {\n",
              "      display:flex;\n",
              "      gap: 12px;\n",
              "    }\n",
              "\n",
              "    .colab-df-convert {\n",
              "      background-color: #E8F0FE;\n",
              "      border: none;\n",
              "      border-radius: 50%;\n",
              "      cursor: pointer;\n",
              "      display: none;\n",
              "      fill: #1967D2;\n",
              "      height: 32px;\n",
              "      padding: 0 0 0 0;\n",
              "      width: 32px;\n",
              "    }\n",
              "\n",
              "    .colab-df-convert:hover {\n",
              "      background-color: #E2EBFA;\n",
              "      box-shadow: 0px 1px 2px rgba(60, 64, 67, 0.3), 0px 1px 3px 1px rgba(60, 64, 67, 0.15);\n",
              "      fill: #174EA6;\n",
              "    }\n",
              "\n",
              "    .colab-df-buttons div {\n",
              "      margin-bottom: 4px;\n",
              "    }\n",
              "\n",
              "    [theme=dark] .colab-df-convert {\n",
              "      background-color: #3B4455;\n",
              "      fill: #D2E3FC;\n",
              "    }\n",
              "\n",
              "    [theme=dark] .colab-df-convert:hover {\n",
              "      background-color: #434B5C;\n",
              "      box-shadow: 0px 1px 3px 1px rgba(0, 0, 0, 0.15);\n",
              "      filter: drop-shadow(0px 1px 2px rgba(0, 0, 0, 0.3));\n",
              "      fill: #FFFFFF;\n",
              "    }\n",
              "  </style>\n",
              "\n",
              "    <script>\n",
              "      const buttonEl =\n",
              "        document.querySelector('#df-8860eff6-faa7-4dbb-a17d-efe29a1b6336 button.colab-df-convert');\n",
              "      buttonEl.style.display =\n",
              "        google.colab.kernel.accessAllowed ? 'block' : 'none';\n",
              "\n",
              "      async function convertToInteractive(key) {\n",
              "        const element = document.querySelector('#df-8860eff6-faa7-4dbb-a17d-efe29a1b6336');\n",
              "        const dataTable =\n",
              "          await google.colab.kernel.invokeFunction('convertToInteractive',\n",
              "                                                    [key], {});\n",
              "        if (!dataTable) return;\n",
              "\n",
              "        const docLinkHtml = 'Like what you see? Visit the ' +\n",
              "          '<a target=\"_blank\" href=https://colab.research.google.com/notebooks/data_table.ipynb>data table notebook</a>'\n",
              "          + ' to learn more about interactive tables.';\n",
              "        element.innerHTML = '';\n",
              "        dataTable['output_type'] = 'display_data';\n",
              "        await google.colab.output.renderOutput(dataTable, element);\n",
              "        const docLink = document.createElement('div');\n",
              "        docLink.innerHTML = docLinkHtml;\n",
              "        element.appendChild(docLink);\n",
              "      }\n",
              "    </script>\n",
              "  </div>\n",
              "\n",
              "\n",
              "<div id=\"df-ea5be3df-fc6d-48c9-bdf5-ed6dcef95bf5\">\n",
              "  <button class=\"colab-df-quickchart\" onclick=\"quickchart('df-ea5be3df-fc6d-48c9-bdf5-ed6dcef95bf5')\"\n",
              "            title=\"Suggest charts\"\n",
              "            style=\"display:none;\">\n",
              "\n",
              "<svg xmlns=\"http://www.w3.org/2000/svg\" height=\"24px\"viewBox=\"0 0 24 24\"\n",
              "     width=\"24px\">\n",
              "    <g>\n",
              "        <path d=\"M19 3H5c-1.1 0-2 .9-2 2v14c0 1.1.9 2 2 2h14c1.1 0 2-.9 2-2V5c0-1.1-.9-2-2-2zM9 17H7v-7h2v7zm4 0h-2V7h2v10zm4 0h-2v-4h2v4z\"/>\n",
              "    </g>\n",
              "</svg>\n",
              "  </button>\n",
              "\n",
              "<style>\n",
              "  .colab-df-quickchart {\n",
              "      --bg-color: #E8F0FE;\n",
              "      --fill-color: #1967D2;\n",
              "      --hover-bg-color: #E2EBFA;\n",
              "      --hover-fill-color: #174EA6;\n",
              "      --disabled-fill-color: #AAA;\n",
              "      --disabled-bg-color: #DDD;\n",
              "  }\n",
              "\n",
              "  [theme=dark] .colab-df-quickchart {\n",
              "      --bg-color: #3B4455;\n",
              "      --fill-color: #D2E3FC;\n",
              "      --hover-bg-color: #434B5C;\n",
              "      --hover-fill-color: #FFFFFF;\n",
              "      --disabled-bg-color: #3B4455;\n",
              "      --disabled-fill-color: #666;\n",
              "  }\n",
              "\n",
              "  .colab-df-quickchart {\n",
              "    background-color: var(--bg-color);\n",
              "    border: none;\n",
              "    border-radius: 50%;\n",
              "    cursor: pointer;\n",
              "    display: none;\n",
              "    fill: var(--fill-color);\n",
              "    height: 32px;\n",
              "    padding: 0;\n",
              "    width: 32px;\n",
              "  }\n",
              "\n",
              "  .colab-df-quickchart:hover {\n",
              "    background-color: var(--hover-bg-color);\n",
              "    box-shadow: 0 1px 2px rgba(60, 64, 67, 0.3), 0 1px 3px 1px rgba(60, 64, 67, 0.15);\n",
              "    fill: var(--button-hover-fill-color);\n",
              "  }\n",
              "\n",
              "  .colab-df-quickchart-complete:disabled,\n",
              "  .colab-df-quickchart-complete:disabled:hover {\n",
              "    background-color: var(--disabled-bg-color);\n",
              "    fill: var(--disabled-fill-color);\n",
              "    box-shadow: none;\n",
              "  }\n",
              "\n",
              "  .colab-df-spinner {\n",
              "    border: 2px solid var(--fill-color);\n",
              "    border-color: transparent;\n",
              "    border-bottom-color: var(--fill-color);\n",
              "    animation:\n",
              "      spin 1s steps(1) infinite;\n",
              "  }\n",
              "\n",
              "  @keyframes spin {\n",
              "    0% {\n",
              "      border-color: transparent;\n",
              "      border-bottom-color: var(--fill-color);\n",
              "      border-left-color: var(--fill-color);\n",
              "    }\n",
              "    20% {\n",
              "      border-color: transparent;\n",
              "      border-left-color: var(--fill-color);\n",
              "      border-top-color: var(--fill-color);\n",
              "    }\n",
              "    30% {\n",
              "      border-color: transparent;\n",
              "      border-left-color: var(--fill-color);\n",
              "      border-top-color: var(--fill-color);\n",
              "      border-right-color: var(--fill-color);\n",
              "    }\n",
              "    40% {\n",
              "      border-color: transparent;\n",
              "      border-right-color: var(--fill-color);\n",
              "      border-top-color: var(--fill-color);\n",
              "    }\n",
              "    60% {\n",
              "      border-color: transparent;\n",
              "      border-right-color: var(--fill-color);\n",
              "    }\n",
              "    80% {\n",
              "      border-color: transparent;\n",
              "      border-right-color: var(--fill-color);\n",
              "      border-bottom-color: var(--fill-color);\n",
              "    }\n",
              "    90% {\n",
              "      border-color: transparent;\n",
              "      border-bottom-color: var(--fill-color);\n",
              "    }\n",
              "  }\n",
              "</style>\n",
              "\n",
              "  <script>\n",
              "    async function quickchart(key) {\n",
              "      const quickchartButtonEl =\n",
              "        document.querySelector('#' + key + ' button');\n",
              "      quickchartButtonEl.disabled = true;  // To prevent multiple clicks.\n",
              "      quickchartButtonEl.classList.add('colab-df-spinner');\n",
              "      try {\n",
              "        const charts = await google.colab.kernel.invokeFunction(\n",
              "            'suggestCharts', [key], {});\n",
              "      } catch (error) {\n",
              "        console.error('Error during call to suggestCharts:', error);\n",
              "      }\n",
              "      quickchartButtonEl.classList.remove('colab-df-spinner');\n",
              "      quickchartButtonEl.classList.add('colab-df-quickchart-complete');\n",
              "    }\n",
              "    (() => {\n",
              "      let quickchartButtonEl =\n",
              "        document.querySelector('#df-ea5be3df-fc6d-48c9-bdf5-ed6dcef95bf5 button');\n",
              "      quickchartButtonEl.style.display =\n",
              "        google.colab.kernel.accessAllowed ? 'block' : 'none';\n",
              "    })();\n",
              "  </script>\n",
              "</div>\n",
              "\n",
              "    </div>\n",
              "  </div>\n"
            ],
            "application/vnd.google.colaboratory.intrinsic+json": {
              "type": "dataframe",
              "variable_name": "data",
              "summary": "{\n  \"name\": \"data\",\n  \"rows\": 730,\n  \"fields\": [\n    {\n      \"column\": \"client_id\",\n      \"properties\": {\n        \"dtype\": \"number\",\n        \"std\": 106.5907613341524,\n        \"min\": 6.0,\n        \"max\": 398.0,\n        \"num_unique_values\": 212,\n        \"samples\": [\n          63.0,\n          353.0,\n          107.0\n        ],\n        \"semantic_type\": \"\",\n        \"description\": \"\"\n      }\n    },\n    {\n      \"column\": \"sum\",\n      \"properties\": {\n        \"dtype\": \"number\",\n        \"std\": 6308.571297026363,\n        \"min\": 23.7,\n        \"max\": 39713.5,\n        \"num_unique_values\": 504,\n        \"samples\": [\n          6320.7,\n          5873.7,\n          9833.7\n        ],\n        \"semantic_type\": \"\",\n        \"description\": \"\"\n      }\n    },\n    {\n      \"column\": \"status\",\n      \"properties\": {\n        \"dtype\": \"category\",\n        \"num_unique_values\": 11,\n        \"samples\": [\n          \"\\u0418\\u044e\\u043b\\u044c 2021\",\n          \"\\u041c\\u0430\\u0439 2021\",\n          \"\\u041e\\u043a\\u0442\\u044f\\u0431\\u0440\\u044c 2021\"\n        ],\n        \"semantic_type\": \"\",\n        \"description\": \"\"\n      }\n    },\n    {\n      \"column\": \"sale\",\n      \"properties\": {\n        \"dtype\": \"category\",\n        \"num_unique_values\": 12,\n        \"samples\": [\n          \"\\u041c\\u0438\\u0445\\u0430\\u0439\\u043b\\u043e\\u0432\",\n          \"\\u0421\\u043e\\u043a\\u043e\\u043b\\u043e\\u0432\",\n          \"-\"\n        ],\n        \"semantic_type\": \"\",\n        \"description\": \"\"\n      }\n    },\n    {\n      \"column\": \"new/current\",\n      \"properties\": {\n        \"dtype\": \"category\",\n        \"num_unique_values\": 3,\n        \"samples\": [\n          \"-\",\n          \"\\u043d\\u043e\\u0432\\u0430\\u044f\",\n          \"\\u0442\\u0435\\u043a\\u0443\\u0449\\u0430\\u044f\"\n        ],\n        \"semantic_type\": \"\",\n        \"description\": \"\"\n      }\n    },\n    {\n      \"column\": \"Unnamed: 5\",\n      \"properties\": {\n        \"dtype\": \"number\",\n        \"std\": null,\n        \"min\": null,\n        \"max\": null,\n        \"num_unique_values\": 0,\n        \"samples\": [],\n        \"semantic_type\": \"\",\n        \"description\": \"\"\n      }\n    },\n    {\n      \"column\": \"document\",\n      \"properties\": {\n        \"dtype\": \"category\",\n        \"num_unique_values\": 3,\n        \"samples\": [],\n        \"semantic_type\": \"\",\n        \"description\": \"\"\n      }\n    },\n    {\n      \"column\": \"receiving_date\",\n      \"properties\": {\n        \"dtype\": \"category\",\n        \"num_unique_values\": 111,\n        \"samples\": [],\n        \"semantic_type\": \"\",\n        \"description\": \"\"\n      }\n    }\n  ]\n}"
            }
          },
          "metadata": {},
          "execution_count": 9
        }
      ]
    },
    {
      "cell_type": "code",
      "source": [
        "data.info()"
      ],
      "metadata": {
        "colab": {
          "base_uri": "https://localhost:8080/"
        },
        "id": "akqyUnqrLGTt",
        "outputId": "ab5d93a3-440f-474e-8ff3-700dfcae7b18"
      },
      "execution_count": 10,
      "outputs": [
        {
          "output_type": "stream",
          "name": "stdout",
          "text": [
            "<class 'pandas.core.frame.DataFrame'>\n",
            "RangeIndex: 730 entries, 0 to 729\n",
            "Data columns (total 8 columns):\n",
            " #   Column          Non-Null Count  Dtype  \n",
            "---  ------          --------------  -----  \n",
            " 0   client_id       724 non-null    float64\n",
            " 1   sum             724 non-null    float64\n",
            " 2   status          730 non-null    object \n",
            " 3   sale            724 non-null    object \n",
            " 4   new/current     724 non-null    object \n",
            " 5   Unnamed: 5      0 non-null      float64\n",
            " 6   document        709 non-null    object \n",
            " 7   receiving_date  607 non-null    object \n",
            "dtypes: float64(3), object(5)\n",
            "memory usage: 45.8+ KB\n"
          ]
        }
      ]
    },
    {
      "cell_type": "code",
      "source": [
        "data.drop(columns=[\"Unnamed: 5\"], inplace=True)\n",
        "data[\"receiving_date\"] = data['receiving_date'].astype(str)"
      ],
      "metadata": {
        "id": "4PT47BtjAE2k"
      },
      "execution_count": 11,
      "outputs": []
    },
    {
      "cell_type": "markdown",
      "source": [
        "## Вопросы"
      ],
      "metadata": {
        "id": "zVRuH2Ph-HS5"
      }
    },
    {
      "cell_type": "markdown",
      "source": [
        "1. **Вычислите общую выручку за июль 2021 по тем сделкам, приход денежных средств которых не просрочен.**\n",
        "\n",
        "  Ответ: 859896.47"
      ],
      "metadata": {
        "id": "WAWjTmaz96FJ"
      }
    },
    {
      "cell_type": "code",
      "source": [
        "july_start = data[data[\"status\"] == \"Июль 2021\"].index[0]\n",
        "july_end = data[data[\"status\"] == \"Август 2021\"].index[0]\n",
        "july_data = data.iloc[july_start+1:july_end]"
      ],
      "metadata": {
        "id": "o1jRYNR495zL"
      },
      "execution_count": 12,
      "outputs": []
    },
    {
      "cell_type": "code",
      "source": [
        "revenue_July = round(july_data[july_data[\"status\"] != \"ПРОСРОЧЕНО\"][\"sum\"].sum(), 2)\n",
        "print(f'Общая выручка за июль 2021 по сделкам, оплата по которым не просрочена, составила {revenue_July}.')"
      ],
      "metadata": {
        "colab": {
          "base_uri": "https://localhost:8080/"
        },
        "id": "KQ7-242V-GPz",
        "outputId": "9806dc12-222e-4219-cc62-2a95599d7dc0"
      },
      "execution_count": 13,
      "outputs": [
        {
          "output_type": "stream",
          "name": "stdout",
          "text": [
            "Общая выручка за июль 2021 по сделкам, оплата по которым не просрочена, составила 859896.47.\n"
          ]
        }
      ]
    },
    {
      "cell_type": "markdown",
      "source": [
        "2. **Как изменялась выручка компании за рассматриваемый период?\n",
        "Проиллюстрируйте графиком.**"
      ],
      "metadata": {
        "id": "st-eXayYC_P7"
      }
    },
    {
      "cell_type": "code",
      "source": [
        "revenue_data = pd.DataFrame(columns=[\"month\", \"revenue\"])\n",
        "month_list = [\"Май 2021\", \"Июнь 2021\", \"Июль 2021\", \"Август 2021\", \"Сентябрь 2021\", \"Октябрь 2021\"]\n",
        "for i in range(1, len(month_list)+1):\n",
        "  revenue = 0\n",
        "  month_start = data[data[\"status\"] == month_list[i-1]].index[0]\n",
        "  month_end = len(data) if month_list[i-1] == \"Октябрь 2021\" else data[data[\"status\"] == month_list[i]].index[0]\n",
        "  month_data = data.iloc[month_start+1:month_end]\n",
        "  revenue += month_data[\"sum\"].sum()\n",
        "\n",
        "  revenue_data = revenue_data._append({\n",
        "      \"month\": month_list[i-1],\n",
        "      \"revenue\": revenue\n",
        "  }, ignore_index=True)\n",
        "\n",
        "revenue_data"
      ],
      "metadata": {
        "colab": {
          "base_uri": "https://localhost:8080/",
          "height": 238
        },
        "id": "49W0b05NDD55",
        "outputId": "498fb110-6cc6-4226-eabf-cc6f808851c5"
      },
      "execution_count": 14,
      "outputs": [
        {
          "output_type": "execute_result",
          "data": {
            "text/plain": [
              "           month     revenue\n",
              "0       Май 2021   809572.19\n",
              "1      Июнь 2021   810266.11\n",
              "2      Июль 2021   861874.17\n",
              "3    Август 2021   850435.79\n",
              "4  Сентябрь 2021   820383.78\n",
              "5   Октябрь 2021  1033148.39"
            ],
            "text/html": [
              "\n",
              "  <div id=\"df-fa307e62-b0ec-4f2b-bed0-47199a76f32c\" class=\"colab-df-container\">\n",
              "    <div>\n",
              "<style scoped>\n",
              "    .dataframe tbody tr th:only-of-type {\n",
              "        vertical-align: middle;\n",
              "    }\n",
              "\n",
              "    .dataframe tbody tr th {\n",
              "        vertical-align: top;\n",
              "    }\n",
              "\n",
              "    .dataframe thead th {\n",
              "        text-align: right;\n",
              "    }\n",
              "</style>\n",
              "<table border=\"1\" class=\"dataframe\">\n",
              "  <thead>\n",
              "    <tr style=\"text-align: right;\">\n",
              "      <th></th>\n",
              "      <th>month</th>\n",
              "      <th>revenue</th>\n",
              "    </tr>\n",
              "  </thead>\n",
              "  <tbody>\n",
              "    <tr>\n",
              "      <th>0</th>\n",
              "      <td>Май 2021</td>\n",
              "      <td>809572.19</td>\n",
              "    </tr>\n",
              "    <tr>\n",
              "      <th>1</th>\n",
              "      <td>Июнь 2021</td>\n",
              "      <td>810266.11</td>\n",
              "    </tr>\n",
              "    <tr>\n",
              "      <th>2</th>\n",
              "      <td>Июль 2021</td>\n",
              "      <td>861874.17</td>\n",
              "    </tr>\n",
              "    <tr>\n",
              "      <th>3</th>\n",
              "      <td>Август 2021</td>\n",
              "      <td>850435.79</td>\n",
              "    </tr>\n",
              "    <tr>\n",
              "      <th>4</th>\n",
              "      <td>Сентябрь 2021</td>\n",
              "      <td>820383.78</td>\n",
              "    </tr>\n",
              "    <tr>\n",
              "      <th>5</th>\n",
              "      <td>Октябрь 2021</td>\n",
              "      <td>1033148.39</td>\n",
              "    </tr>\n",
              "  </tbody>\n",
              "</table>\n",
              "</div>\n",
              "    <div class=\"colab-df-buttons\">\n",
              "\n",
              "  <div class=\"colab-df-container\">\n",
              "    <button class=\"colab-df-convert\" onclick=\"convertToInteractive('df-fa307e62-b0ec-4f2b-bed0-47199a76f32c')\"\n",
              "            title=\"Convert this dataframe to an interactive table.\"\n",
              "            style=\"display:none;\">\n",
              "\n",
              "  <svg xmlns=\"http://www.w3.org/2000/svg\" height=\"24px\" viewBox=\"0 -960 960 960\">\n",
              "    <path d=\"M120-120v-720h720v720H120Zm60-500h600v-160H180v160Zm220 220h160v-160H400v160Zm0 220h160v-160H400v160ZM180-400h160v-160H180v160Zm440 0h160v-160H620v160ZM180-180h160v-160H180v160Zm440 0h160v-160H620v160Z\"/>\n",
              "  </svg>\n",
              "    </button>\n",
              "\n",
              "  <style>\n",
              "    .colab-df-container {\n",
              "      display:flex;\n",
              "      gap: 12px;\n",
              "    }\n",
              "\n",
              "    .colab-df-convert {\n",
              "      background-color: #E8F0FE;\n",
              "      border: none;\n",
              "      border-radius: 50%;\n",
              "      cursor: pointer;\n",
              "      display: none;\n",
              "      fill: #1967D2;\n",
              "      height: 32px;\n",
              "      padding: 0 0 0 0;\n",
              "      width: 32px;\n",
              "    }\n",
              "\n",
              "    .colab-df-convert:hover {\n",
              "      background-color: #E2EBFA;\n",
              "      box-shadow: 0px 1px 2px rgba(60, 64, 67, 0.3), 0px 1px 3px 1px rgba(60, 64, 67, 0.15);\n",
              "      fill: #174EA6;\n",
              "    }\n",
              "\n",
              "    .colab-df-buttons div {\n",
              "      margin-bottom: 4px;\n",
              "    }\n",
              "\n",
              "    [theme=dark] .colab-df-convert {\n",
              "      background-color: #3B4455;\n",
              "      fill: #D2E3FC;\n",
              "    }\n",
              "\n",
              "    [theme=dark] .colab-df-convert:hover {\n",
              "      background-color: #434B5C;\n",
              "      box-shadow: 0px 1px 3px 1px rgba(0, 0, 0, 0.15);\n",
              "      filter: drop-shadow(0px 1px 2px rgba(0, 0, 0, 0.3));\n",
              "      fill: #FFFFFF;\n",
              "    }\n",
              "  </style>\n",
              "\n",
              "    <script>\n",
              "      const buttonEl =\n",
              "        document.querySelector('#df-fa307e62-b0ec-4f2b-bed0-47199a76f32c button.colab-df-convert');\n",
              "      buttonEl.style.display =\n",
              "        google.colab.kernel.accessAllowed ? 'block' : 'none';\n",
              "\n",
              "      async function convertToInteractive(key) {\n",
              "        const element = document.querySelector('#df-fa307e62-b0ec-4f2b-bed0-47199a76f32c');\n",
              "        const dataTable =\n",
              "          await google.colab.kernel.invokeFunction('convertToInteractive',\n",
              "                                                    [key], {});\n",
              "        if (!dataTable) return;\n",
              "\n",
              "        const docLinkHtml = 'Like what you see? Visit the ' +\n",
              "          '<a target=\"_blank\" href=https://colab.research.google.com/notebooks/data_table.ipynb>data table notebook</a>'\n",
              "          + ' to learn more about interactive tables.';\n",
              "        element.innerHTML = '';\n",
              "        dataTable['output_type'] = 'display_data';\n",
              "        await google.colab.output.renderOutput(dataTable, element);\n",
              "        const docLink = document.createElement('div');\n",
              "        docLink.innerHTML = docLinkHtml;\n",
              "        element.appendChild(docLink);\n",
              "      }\n",
              "    </script>\n",
              "  </div>\n",
              "\n",
              "\n",
              "<div id=\"df-1260a94a-0aba-4a70-bdb0-8459a514157c\">\n",
              "  <button class=\"colab-df-quickchart\" onclick=\"quickchart('df-1260a94a-0aba-4a70-bdb0-8459a514157c')\"\n",
              "            title=\"Suggest charts\"\n",
              "            style=\"display:none;\">\n",
              "\n",
              "<svg xmlns=\"http://www.w3.org/2000/svg\" height=\"24px\"viewBox=\"0 0 24 24\"\n",
              "     width=\"24px\">\n",
              "    <g>\n",
              "        <path d=\"M19 3H5c-1.1 0-2 .9-2 2v14c0 1.1.9 2 2 2h14c1.1 0 2-.9 2-2V5c0-1.1-.9-2-2-2zM9 17H7v-7h2v7zm4 0h-2V7h2v10zm4 0h-2v-4h2v4z\"/>\n",
              "    </g>\n",
              "</svg>\n",
              "  </button>\n",
              "\n",
              "<style>\n",
              "  .colab-df-quickchart {\n",
              "      --bg-color: #E8F0FE;\n",
              "      --fill-color: #1967D2;\n",
              "      --hover-bg-color: #E2EBFA;\n",
              "      --hover-fill-color: #174EA6;\n",
              "      --disabled-fill-color: #AAA;\n",
              "      --disabled-bg-color: #DDD;\n",
              "  }\n",
              "\n",
              "  [theme=dark] .colab-df-quickchart {\n",
              "      --bg-color: #3B4455;\n",
              "      --fill-color: #D2E3FC;\n",
              "      --hover-bg-color: #434B5C;\n",
              "      --hover-fill-color: #FFFFFF;\n",
              "      --disabled-bg-color: #3B4455;\n",
              "      --disabled-fill-color: #666;\n",
              "  }\n",
              "\n",
              "  .colab-df-quickchart {\n",
              "    background-color: var(--bg-color);\n",
              "    border: none;\n",
              "    border-radius: 50%;\n",
              "    cursor: pointer;\n",
              "    display: none;\n",
              "    fill: var(--fill-color);\n",
              "    height: 32px;\n",
              "    padding: 0;\n",
              "    width: 32px;\n",
              "  }\n",
              "\n",
              "  .colab-df-quickchart:hover {\n",
              "    background-color: var(--hover-bg-color);\n",
              "    box-shadow: 0 1px 2px rgba(60, 64, 67, 0.3), 0 1px 3px 1px rgba(60, 64, 67, 0.15);\n",
              "    fill: var(--button-hover-fill-color);\n",
              "  }\n",
              "\n",
              "  .colab-df-quickchart-complete:disabled,\n",
              "  .colab-df-quickchart-complete:disabled:hover {\n",
              "    background-color: var(--disabled-bg-color);\n",
              "    fill: var(--disabled-fill-color);\n",
              "    box-shadow: none;\n",
              "  }\n",
              "\n",
              "  .colab-df-spinner {\n",
              "    border: 2px solid var(--fill-color);\n",
              "    border-color: transparent;\n",
              "    border-bottom-color: var(--fill-color);\n",
              "    animation:\n",
              "      spin 1s steps(1) infinite;\n",
              "  }\n",
              "\n",
              "  @keyframes spin {\n",
              "    0% {\n",
              "      border-color: transparent;\n",
              "      border-bottom-color: var(--fill-color);\n",
              "      border-left-color: var(--fill-color);\n",
              "    }\n",
              "    20% {\n",
              "      border-color: transparent;\n",
              "      border-left-color: var(--fill-color);\n",
              "      border-top-color: var(--fill-color);\n",
              "    }\n",
              "    30% {\n",
              "      border-color: transparent;\n",
              "      border-left-color: var(--fill-color);\n",
              "      border-top-color: var(--fill-color);\n",
              "      border-right-color: var(--fill-color);\n",
              "    }\n",
              "    40% {\n",
              "      border-color: transparent;\n",
              "      border-right-color: var(--fill-color);\n",
              "      border-top-color: var(--fill-color);\n",
              "    }\n",
              "    60% {\n",
              "      border-color: transparent;\n",
              "      border-right-color: var(--fill-color);\n",
              "    }\n",
              "    80% {\n",
              "      border-color: transparent;\n",
              "      border-right-color: var(--fill-color);\n",
              "      border-bottom-color: var(--fill-color);\n",
              "    }\n",
              "    90% {\n",
              "      border-color: transparent;\n",
              "      border-bottom-color: var(--fill-color);\n",
              "    }\n",
              "  }\n",
              "</style>\n",
              "\n",
              "  <script>\n",
              "    async function quickchart(key) {\n",
              "      const quickchartButtonEl =\n",
              "        document.querySelector('#' + key + ' button');\n",
              "      quickchartButtonEl.disabled = true;  // To prevent multiple clicks.\n",
              "      quickchartButtonEl.classList.add('colab-df-spinner');\n",
              "      try {\n",
              "        const charts = await google.colab.kernel.invokeFunction(\n",
              "            'suggestCharts', [key], {});\n",
              "      } catch (error) {\n",
              "        console.error('Error during call to suggestCharts:', error);\n",
              "      }\n",
              "      quickchartButtonEl.classList.remove('colab-df-spinner');\n",
              "      quickchartButtonEl.classList.add('colab-df-quickchart-complete');\n",
              "    }\n",
              "    (() => {\n",
              "      let quickchartButtonEl =\n",
              "        document.querySelector('#df-1260a94a-0aba-4a70-bdb0-8459a514157c button');\n",
              "      quickchartButtonEl.style.display =\n",
              "        google.colab.kernel.accessAllowed ? 'block' : 'none';\n",
              "    })();\n",
              "  </script>\n",
              "</div>\n",
              "\n",
              "  <div id=\"id_4f3158a6-c8a0-4130-afdf-a432b6b84279\">\n",
              "    <style>\n",
              "      .colab-df-generate {\n",
              "        background-color: #E8F0FE;\n",
              "        border: none;\n",
              "        border-radius: 50%;\n",
              "        cursor: pointer;\n",
              "        display: none;\n",
              "        fill: #1967D2;\n",
              "        height: 32px;\n",
              "        padding: 0 0 0 0;\n",
              "        width: 32px;\n",
              "      }\n",
              "\n",
              "      .colab-df-generate:hover {\n",
              "        background-color: #E2EBFA;\n",
              "        box-shadow: 0px 1px 2px rgba(60, 64, 67, 0.3), 0px 1px 3px 1px rgba(60, 64, 67, 0.15);\n",
              "        fill: #174EA6;\n",
              "      }\n",
              "\n",
              "      [theme=dark] .colab-df-generate {\n",
              "        background-color: #3B4455;\n",
              "        fill: #D2E3FC;\n",
              "      }\n",
              "\n",
              "      [theme=dark] .colab-df-generate:hover {\n",
              "        background-color: #434B5C;\n",
              "        box-shadow: 0px 1px 3px 1px rgba(0, 0, 0, 0.15);\n",
              "        filter: drop-shadow(0px 1px 2px rgba(0, 0, 0, 0.3));\n",
              "        fill: #FFFFFF;\n",
              "      }\n",
              "    </style>\n",
              "    <button class=\"colab-df-generate\" onclick=\"generateWithVariable('revenue_data')\"\n",
              "            title=\"Generate code using this dataframe.\"\n",
              "            style=\"display:none;\">\n",
              "\n",
              "  <svg xmlns=\"http://www.w3.org/2000/svg\" height=\"24px\"viewBox=\"0 0 24 24\"\n",
              "       width=\"24px\">\n",
              "    <path d=\"M7,19H8.4L18.45,9,17,7.55,7,17.6ZM5,21V16.75L18.45,3.32a2,2,0,0,1,2.83,0l1.4,1.43a1.91,1.91,0,0,1,.58,1.4,1.91,1.91,0,0,1-.58,1.4L9.25,21ZM18.45,9,17,7.55Zm-12,3A5.31,5.31,0,0,0,4.9,8.1,5.31,5.31,0,0,0,1,6.5,5.31,5.31,0,0,0,4.9,4.9,5.31,5.31,0,0,0,6.5,1,5.31,5.31,0,0,0,8.1,4.9,5.31,5.31,0,0,0,12,6.5,5.46,5.46,0,0,0,6.5,12Z\"/>\n",
              "  </svg>\n",
              "    </button>\n",
              "    <script>\n",
              "      (() => {\n",
              "      const buttonEl =\n",
              "        document.querySelector('#id_4f3158a6-c8a0-4130-afdf-a432b6b84279 button.colab-df-generate');\n",
              "      buttonEl.style.display =\n",
              "        google.colab.kernel.accessAllowed ? 'block' : 'none';\n",
              "\n",
              "      buttonEl.onclick = () => {\n",
              "        google.colab.notebook.generateWithVariable('revenue_data');\n",
              "      }\n",
              "      })();\n",
              "    </script>\n",
              "  </div>\n",
              "\n",
              "    </div>\n",
              "  </div>\n"
            ],
            "application/vnd.google.colaboratory.intrinsic+json": {
              "type": "dataframe",
              "variable_name": "revenue_data",
              "summary": "{\n  \"name\": \"revenue_data\",\n  \"rows\": 6,\n  \"fields\": [\n    {\n      \"column\": \"month\",\n      \"properties\": {\n        \"dtype\": \"string\",\n        \"num_unique_values\": 6,\n        \"samples\": [\n          \"\\u041c\\u0430\\u0439 2021\",\n          \"\\u0418\\u044e\\u043d\\u044c 2021\",\n          \"\\u041e\\u043a\\u0442\\u044f\\u0431\\u0440\\u044c 2021\"\n        ],\n        \"semantic_type\": \"\",\n        \"description\": \"\"\n      }\n    },\n    {\n      \"column\": \"revenue\",\n      \"properties\": {\n        \"dtype\": \"number\",\n        \"std\": 85500.0657635898,\n        \"min\": 809572.19,\n        \"max\": 1033148.3899999999,\n        \"num_unique_values\": 6,\n        \"samples\": [\n          809572.19,\n          810266.1099999999,\n          1033148.3899999999\n        ],\n        \"semantic_type\": \"\",\n        \"description\": \"\"\n      }\n    }\n  ]\n}"
            }
          },
          "metadata": {},
          "execution_count": 14
        }
      ]
    },
    {
      "cell_type": "code",
      "source": [
        "plt.figure(figsize=(10, 6))\n",
        "plt.plot(revenue_data[\"month\"], revenue_data[\"revenue\"], marker='o', linestyle='-', color='b')\n",
        "plt.xlabel(\"Месяц\")\n",
        "plt.ylabel(\"Выручка\")\n",
        "plt.title(\"Изменение выручки за рассматриваемый период\")\n",
        "plt.xticks(rotation=45)\n",
        "plt.grid(True)\n",
        "plt.tight_layout()\n",
        "plt.show()"
      ],
      "metadata": {
        "colab": {
          "base_uri": "https://localhost:8080/",
          "height": 607
        },
        "id": "MnAVcP0iMrJD",
        "outputId": "e7e63754-737b-4e9d-bbdf-6f735b0ec585"
      },
      "execution_count": 15,
      "outputs": [
        {
          "output_type": "display_data",
          "data": {
            "text/plain": [
              "<Figure size 1000x600 with 1 Axes>"
            ],
            "image/png": "[encoded data removed]"
          },
          "metadata": {}
        }
      ]
    },
    {
      "cell_type": "code",
      "source": [
        "revenue_data[\"cumulative_revenue\"] = revenue_data[\"revenue\"].cumsum()\n",
        "\n",
        "plt.figure(figsize=(10, 6))\n",
        "plt.plot(revenue_data[\"month\"], revenue_data[\"cumulative_revenue\"], marker='o', linestyle='-', color='g')\n",
        "plt.xlabel(\"Месяц\")\n",
        "plt.ylabel(\"Суммарная выручка\")\n",
        "plt.title(\"Накопительная выручка по месяцам\")\n",
        "plt.xticks(rotation=45)\n",
        "plt.grid(True)\n",
        "plt.tight_layout()\n",
        "plt.show()"
      ],
      "metadata": {
        "colab": {
          "base_uri": "https://localhost:8080/",
          "height": 607
        },
        "id": "TaB-1bEyOCIG",
        "outputId": "ba83925f-6541-4d38-9f36-db0b680c0b2c"
      },
      "execution_count": 16,
      "outputs": [
        {
          "output_type": "display_data",
          "data": {
            "text/plain": [
              "<Figure size 1000x600 with 1 Axes>"
            ],
            "image/png": "[encoded data removed]"
          },
          "metadata": {}
        }
      ]
    },
    {
      "cell_type": "markdown",
      "source": [
        "3. **Кто из менеджеров привлек для компании больше всего денежных средств в\n",
        "сентябре 2021?**\n",
        "\n",
        "  Ответ: Смирнов"
      ],
      "metadata": {
        "id": "XNj3JewnDtde"
      }
    },
    {
      "cell_type": "code",
      "source": [
        "sep_start = data[data[\"status\"] == \"Сентябрь 2021\"].index[0]\n",
        "sep_end = data[data[\"status\"] == \"Октябрь 2021\"].index[0]\n",
        "sep_data = data.iloc[sep_start+1:sep_end]"
      ],
      "metadata": {
        "id": "8ehkdQgeDveu"
      },
      "execution_count": 17,
      "outputs": []
    },
    {
      "cell_type": "code",
      "source": [
        "uniq_manager = sep_data[\"sale\"].unique()\n",
        "max_sum, best_manager = 0, \"\"\n",
        "\n",
        "for manager in uniq_manager:\n",
        "  sum_manager = sep_data[sep_data[\"sale\"] == manager][\"sum\"].sum()\n",
        "  if max_sum < sum_manager:\n",
        "    max_sum = sum_manager\n",
        "    best_manager = manager\n",
        "\n",
        "print(f'Менеджер {best_manager} привлек больше всего денежных средств в сентябре 2021 года.')"
      ],
      "metadata": {
        "colab": {
          "base_uri": "https://localhost:8080/"
        },
        "id": "B9jqWcabETxq",
        "outputId": "d630796a-1f14-4f69-ddfc-1c2182de12cd"
      },
      "execution_count": 18,
      "outputs": [
        {
          "output_type": "stream",
          "name": "stdout",
          "text": [
            "Менеджер Смирнов привлек больше всего денежных средств в сентябре 2021 года.\n"
          ]
        }
      ]
    },
    {
      "cell_type": "markdown",
      "source": [
        "4. **Какой тип сделок (новая/текущая) был преобладающим в октябре 2021?**\n",
        "\n",
        "  Ответ: Текущая"
      ],
      "metadata": {
        "id": "gW9KyAVEG_cU"
      }
    },
    {
      "cell_type": "code",
      "source": [
        "oct_start = data[data[\"status\"] == \"Октябрь 2021\"].index[0]\n",
        "oct_data = data.iloc[oct_start+1:]"
      ],
      "metadata": {
        "id": "8UuBF4d1HPNV"
      },
      "execution_count": 19,
      "outputs": []
    },
    {
      "cell_type": "code",
      "source": [
        "count_new = oct_data[oct_data[\"new/current\"] == \"новая\"].shape[0]\n",
        "count_current = oct_data[oct_data[\"new/current\"] == \"текущая\"].shape[0]\n",
        "\n",
        "if count_new > count_current:\n",
        "  print(f'В октябре 2021 преобладал тип сделки \"новая\".')\n",
        "elif count_new < count_current:\n",
        "  print(f'В октябре 2021 преобладал тип сделки \"текущая\".')\n",
        "else:\n",
        "  print(f'В октябре 2021 было одинаковое количество новых и текущих сделок.')"
      ],
      "metadata": {
        "colab": {
          "base_uri": "https://localhost:8080/"
        },
        "id": "_Q_t2rEpHcGg",
        "outputId": "6008c11c-67e6-47d4-ea75-0c860f11dcc6"
      },
      "execution_count": 20,
      "outputs": [
        {
          "output_type": "stream",
          "name": "stdout",
          "text": [
            "В октябре 2021 преобладал тип сделки \"текущая\".\n"
          ]
        }
      ]
    },
    {
      "cell_type": "markdown",
      "source": [
        "5. **Сколько оригиналов договора по майским сделкам было получено в июне 2021?**\n",
        "\n",
        "  Ответ: 77"
      ],
      "metadata": {
        "id": "C6QYBN2uKnDI"
      }
    },
    {
      "cell_type": "code",
      "source": [
        "may_start = data[data[\"status\"] == \"Май 2021\"].index[0]\n",
        "may_end = data[data[\"status\"] == \"Июнь 2021\"].index[0]\n",
        "may_data = data.iloc[may_start+1:may_end]"
      ],
      "metadata": {
        "id": "jIQ8BrP1Kp5F"
      },
      "execution_count": 21,
      "outputs": []
    },
    {
      "cell_type": "code",
      "source": [
        "count_june_contracts_may_transactions = may_data[(may_data[\"receiving_date\"].notna()) & (may_data[\"receiving_date\"] >= \"2021-06-01\") & (may_data[\"receiving_date\"] <= \"2021-06-30\")].shape[0]\n",
        "print(f'{count_june_contracts_may_transactions} оригиналов договора по майским сделкам было получено в июне 2021.')"
      ],
      "metadata": {
        "colab": {
          "base_uri": "https://localhost:8080/"
        },
        "id": "p5UcpsesMQid",
        "outputId": "ef742f3a-8f78-430d-88aa-b0933d4265db"
      },
      "execution_count": 22,
      "outputs": [
        {
          "output_type": "stream",
          "name": "stdout",
          "text": [
            "77 оригиналов договора по майским сделкам было получено в июне 2021.\n"
          ]
        }
      ]
    },
    {
      "cell_type": "markdown",
      "source": [
        "## Задание\n",
        "Менеджер получает бонус за каждую заключенную сделку, который рассчитывается следующим образом:\n",
        "\n",
        "1. **Новые сделки**:\n",
        "   - Бонус составляет **7%** от суммы, при условии:\n",
        "     - Статус оплаты: **ОПЛАЧЕНО**\n",
        "     - Наличие оригинала подписанного договора с клиентом (в рассматриваемом месяце).\n",
        "\n",
        "2. **Текущие сделки**:\n",
        "   - Бонус составляет:\n",
        "     - **5%** от суммы, если она больше **10 тыс.**\n",
        "     - **3%** от суммы, если меньше **10 тыс.**\n",
        "   - Статус оплаты может быть любым, кроме **ПРОСРОЧЕНО**.\n",
        "   - Необходимо наличие оригинала подписанного договора с клиентом (в рассматриваемом месяце).\n",
        "\n",
        "\n",
        "Бонусы по сделкам, оригиналы для которых приходят позже рассматриваемого месяца, считаются остатком на следующий период, который выплачивается по мере прихода оригиналов.\n",
        "\n",
        "Вычислите остаток каждого из менеджеров на **01.07.2021**."
      ],
      "metadata": {
        "id": "86Jj_Ua7TZN6"
      }
    },
    {
      "cell_type": "code",
      "source": [
        "may_start = data[data[\"status\"] == \"Май 2021\"].index[0]\n",
        "may_end = data[data[\"status\"] == \"Июнь 2021\"].index[0]\n",
        "may_data = data.iloc[may_start+2:may_end]\n",
        "\n",
        "june_start = data[data[\"status\"] == \"Июнь 2021\"].index[0]\n",
        "june_end = data[data[\"status\"] == \"Июль 2021\"].index[0]\n",
        "june_data = data.iloc[june_start+1:june_end]\n",
        "\n",
        "may_june_data = pd.concat([may_data, june_data], ignore_index=True)"
      ],
      "metadata": {
        "id": "tBVFstc1TdlZ"
      },
      "execution_count": 23,
      "outputs": []
    },
    {
      "cell_type": "code",
      "source": [
        "report_data = pd.DataFrame(columns=[\"manager\", \"ostatok\"])\n",
        "uniq_manager = may_june_data[\"sale\"].unique()\n",
        "fil_may_june_data = may_june_data.loc[may_june_data[\"receiving_date\"].notna() & (may_june_data[\"receiving_date\"] >= \"2021-07-01\")]\n",
        "\n",
        "for manager in uniq_manager:\n",
        "  ostatok = 0\n",
        "  ostatok += fil_may_june_data[(fil_may_june_data[\"sale\"] == manager) & (fil_may_june_data[\"new/current\"] == \"новая\") & (fil_may_june_data[\"status\"] == \"ОПЛАЧЕНО\")][\"sum\"].sum() * 0.07\n",
        "  ostatok += fil_may_june_data[(fil_may_june_data[\"sale\"] == manager) & (fil_may_june_data[\"new/current\"] == \"текущая\") & (fil_may_june_data[\"sum\"] <= 10000.0) & (fil_may_june_data[\"status\"] != \"ПРОСРОЧЕНО\")][\"sum\"].sum() * 0.03\n",
        "  ostatok += fil_may_june_data[(fil_may_june_data[\"sale\"] == manager) & (fil_may_june_data[\"new/current\"] == \"текущая\") & (fil_may_june_data[\"sum\"] > 10000.0) & (fil_may_june_data[\"status\"] != \"ПРОСРОЧЕНО\")][\"sum\"].sum() * 0.05\n",
        "\n",
        "  report_data = report_data._append({\n",
        "      \"manager\": manager,\n",
        "      \"ostatok\": round(ostatok, 2)\n",
        "  }, ignore_index=True)\n",
        "\n",
        "report_data = report_data.sort_values(by=\"ostatok\", ascending=False).reset_index(drop=True)\n",
        "\n",
        "print(\"Ниже представлен отчет об остатках каждого менеджера на 01.07.2021:\")\n",
        "print(report_data)"
      ],
      "metadata": {
        "colab": {
          "base_uri": "https://localhost:8080/"
        },
        "id": "MP0oRVUOpOSL",
        "outputId": "84dfe693-9f2d-4ac6-d283-2f0b6620f43f"
      },
      "execution_count": 24,
      "outputs": [
        {
          "output_type": "stream",
          "name": "stdout",
          "text": [
            "Ниже представлен отчет об остатках каждого менеджера на 01.07.2021:\n",
            "      manager   ostatok\n",
            "0     Петрова  10871.66\n",
            "1     Смирнов   7401.82\n",
            "2      Иванов   5991.45\n",
            "3   Селиванов   5297.69\n",
            "4   Кузнецова   4496.95\n",
            "5     Андреев   3954.79\n",
            "6  Филимонова   2317.96\n",
            "7    Васильев   1037.05\n",
            "8     Соколов    269.21\n"
          ]
        }
      ]
    }
  ]
}